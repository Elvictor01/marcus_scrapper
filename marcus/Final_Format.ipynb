{
 "cells": [
  {
   "cell_type": "code",
   "execution_count": 52,
   "metadata": {},
   "outputs": [],
   "source": [
    "\n",
    "import numpy as np\n",
    "import pandas as pd"
   ]
  },
  {
   "cell_type": "code",
   "execution_count": 53,
   "metadata": {},
   "outputs": [
    {
     "data": {
      "text/html": [
       "<div>\n",
       "<style scoped>\n",
       "    .dataframe tbody tr th:only-of-type {\n",
       "        vertical-align: middle;\n",
       "    }\n",
       "\n",
       "    .dataframe tbody tr th {\n",
       "        vertical-align: top;\n",
       "    }\n",
       "\n",
       "    .dataframe thead th {\n",
       "        text-align: right;\n",
       "    }\n",
       "</style>\n",
       "<table border=\"1\" class=\"dataframe\">\n",
       "  <thead>\n",
       "    <tr style=\"text-align: right;\">\n",
       "      <th></th>\n",
       "      <th>price</th>\n",
       "      <th>shoeBrand</th>\n",
       "      <th>shoeName</th>\n",
       "      <th>shoeType</th>\n",
       "    </tr>\n",
       "  </thead>\n",
       "  <tbody>\n",
       "    <tr>\n",
       "      <th>0</th>\n",
       "      <td>995;154,NOW,75; 1,579,NOW,740; 449,NOW,210; 52...</td>\n",
       "      <td>Saint Laurent,Hunter Boot,Alexander McQueen,Aq...</td>\n",
       "      <td>Men's Jodhpur Leather Ankle-Wrap Boots,Men's O...</td>\n",
       "      <td>Boots</td>\n",
       "    </tr>\n",
       "    <tr>\n",
       "      <th>1</th>\n",
       "      <td>1,190;725;1,200;995;495;425;295;275;798;1,695;...</td>\n",
       "      <td>Alexander McQueen,Bally,TOM FORD,Saint Laurent...</td>\n",
       "      <td>Men's Tie-Dye Calf Hair Chelsea Boots,Men's Ly...</td>\n",
       "      <td>Boots</td>\n",
       "    </tr>\n",
       "  </tbody>\n",
       "</table>\n",
       "</div>"
      ],
      "text/plain": [
       "                                               price  \\\n",
       "0  995;154,NOW,75; 1,579,NOW,740; 449,NOW,210; 52...   \n",
       "1  1,190;725;1,200;995;495;425;295;275;798;1,695;...   \n",
       "\n",
       "                                           shoeBrand  \\\n",
       "0  Saint Laurent,Hunter Boot,Alexander McQueen,Aq...   \n",
       "1  Alexander McQueen,Bally,TOM FORD,Saint Laurent...   \n",
       "\n",
       "                                            shoeName shoeType  \n",
       "0  Men's Jodhpur Leather Ankle-Wrap Boots,Men's O...    Boots  \n",
       "1  Men's Tie-Dye Calf Hair Chelsea Boots,Men's Ly...    Boots  "
      ]
     },
     "execution_count": 53,
     "metadata": {},
     "output_type": "execute_result"
    }
   ],
   "source": [
    "output = pd.read_csv('output.csv')\n",
    "output.head()"
   ]
  },
  {
   "cell_type": "code",
   "execution_count": 54,
   "metadata": {},
   "outputs": [
    {
     "data": {
      "text/plain": [
       "0    995;154,NOW,75; 1,579,NOW,740; 449,NOW,210; 52...\n",
       "1    1,190;725;1,200;995;495;425;295;275;798;1,695;...\n",
       "Name: price, dtype: object"
      ]
     },
     "execution_count": 54,
     "metadata": {},
     "output_type": "execute_result"
    }
   ],
   "source": [
    "output.price"
   ]
  },
  {
   "cell_type": "code",
   "execution_count": 55,
   "metadata": {},
   "outputs": [
    {
     "data": {
      "text/plain": [
       "818"
      ]
     },
     "execution_count": 55,
     "metadata": {},
     "output_type": "execute_result"
    }
   ],
   "source": [
    "len(list(output.price[0]))"
   ]
  },
  {
   "cell_type": "code",
   "execution_count": null,
   "metadata": {
    "scrolled": false
   },
   "outputs": [],
   "source": []
  },
  {
   "cell_type": "code",
   "execution_count": 56,
   "metadata": {},
   "outputs": [
    {
     "data": {
      "text/plain": [
       "269"
      ]
     },
     "execution_count": 56,
     "metadata": {},
     "output_type": "execute_result"
    }
   ],
   "source": [
    "len(list(output.price[1]))"
   ]
  },
  {
   "cell_type": "code",
   "execution_count": 57,
   "metadata": {},
   "outputs": [
    {
     "data": {
      "text/plain": [
       "0    Saint Laurent,Hunter Boot,Alexander McQueen,Aq...\n",
       "1    Alexander McQueen,Bally,TOM FORD,Saint Laurent...\n",
       "Name: shoeBrand, dtype: object"
      ]
     },
     "execution_count": 57,
     "metadata": {},
     "output_type": "execute_result"
    }
   ],
   "source": [
    "output.shoeBrand"
   ]
  },
  {
   "cell_type": "code",
   "execution_count": 58,
   "metadata": {},
   "outputs": [
    {
     "data": {
      "text/plain": [
       "1371"
      ]
     },
     "execution_count": 58,
     "metadata": {},
     "output_type": "execute_result"
    }
   ],
   "source": [
    "len(list(output.shoeBrand[0]))"
   ]
  },
  {
   "cell_type": "code",
   "execution_count": 59,
   "metadata": {},
   "outputs": [
    {
     "data": {
      "text/plain": [
       "700"
      ]
     },
     "execution_count": 59,
     "metadata": {},
     "output_type": "execute_result"
    }
   ],
   "source": [
    "len(list(output.shoeBrand[1]))"
   ]
  },
  {
   "cell_type": "code",
   "execution_count": 60,
   "metadata": {},
   "outputs": [
    {
     "data": {
      "text/plain": [
       "0    Men's Jodhpur Leather Ankle-Wrap Boots,Men's O...\n",
       "1    Men's Tie-Dye Calf Hair Chelsea Boots,Men's Ly...\n",
       "Name: shoeName, dtype: object"
      ]
     },
     "execution_count": 60,
     "metadata": {},
     "output_type": "execute_result"
    }
   ],
   "source": [
    "output.shoeName"
   ]
  },
  {
   "cell_type": "code",
   "execution_count": 61,
   "metadata": {},
   "outputs": [
    {
     "data": {
      "text/plain": [
       "4552"
      ]
     },
     "execution_count": 61,
     "metadata": {},
     "output_type": "execute_result"
    }
   ],
   "source": [
    "len(list(output.shoeName[0]))"
   ]
  },
  {
   "cell_type": "code",
   "execution_count": 62,
   "metadata": {},
   "outputs": [
    {
     "data": {
      "text/plain": [
       "2444"
      ]
     },
     "execution_count": 62,
     "metadata": {},
     "output_type": "execute_result"
    }
   ],
   "source": [
    "len(list(output.shoeName[1]))"
   ]
  },
  {
   "cell_type": "code",
   "execution_count": 63,
   "metadata": {},
   "outputs": [
    {
     "data": {
      "text/plain": [
       "5"
      ]
     },
     "execution_count": 63,
     "metadata": {},
     "output_type": "execute_result"
    }
   ],
   "source": [
    "len(list(output.shoeType[0]))"
   ]
  },
  {
   "cell_type": "code",
   "execution_count": 64,
   "metadata": {},
   "outputs": [
    {
     "data": {
      "text/plain": [
       "0    Boots\n",
       "1    Boots\n",
       "Name: shoeType, dtype: object"
      ]
     },
     "execution_count": 64,
     "metadata": {},
     "output_type": "execute_result"
    }
   ],
   "source": [
    "output.shoeType"
   ]
  },
  {
   "cell_type": "code",
   "execution_count": 65,
   "metadata": {},
   "outputs": [],
   "source": [
    "s_brand_list = output.shoeBrand.str.split(pat = ',')"
   ]
  },
  {
   "cell_type": "code",
   "execution_count": 66,
   "metadata": {},
   "outputs": [],
   "source": [
    "s_name_list = output.shoeName.str.split(pat = ',')"
   ]
  },
  {
   "cell_type": "code",
   "execution_count": 67,
   "metadata": {},
   "outputs": [],
   "source": [
    "s_price = output.price.str.split(pat = ';')"
   ]
  },
  {
   "cell_type": "code",
   "execution_count": 68,
   "metadata": {},
   "outputs": [],
   "source": [
    "# s_brand_list[0]"
   ]
  },
  {
   "cell_type": "code",
   "execution_count": 69,
   "metadata": {},
   "outputs": [
    {
     "data": {
      "text/html": [
       "<div>\n",
       "<style scoped>\n",
       "    .dataframe tbody tr th:only-of-type {\n",
       "        vertical-align: middle;\n",
       "    }\n",
       "\n",
       "    .dataframe tbody tr th {\n",
       "        vertical-align: top;\n",
       "    }\n",
       "\n",
       "    .dataframe thead th {\n",
       "        text-align: right;\n",
       "    }\n",
       "</style>\n",
       "<table border=\"1\" class=\"dataframe\">\n",
       "  <thead>\n",
       "    <tr style=\"text-align: right;\">\n",
       "      <th></th>\n",
       "    </tr>\n",
       "  </thead>\n",
       "  <tbody>\n",
       "  </tbody>\n",
       "</table>\n",
       "</div>"
      ],
      "text/plain": [
       "Empty DataFrame\n",
       "Columns: []\n",
       "Index: []"
      ]
     },
     "execution_count": 69,
     "metadata": {},
     "output_type": "execute_result"
    }
   ],
   "source": [
    "df = pd.DataFrame()\n",
    "df"
   ]
  },
  {
   "cell_type": "code",
   "execution_count": 70,
   "metadata": {
    "scrolled": false
   },
   "outputs": [],
   "source": [
    "def extract_series(series):\n",
    "    df = []\n",
    "    for ser in series:\n",
    "        for s in ser:\n",
    "            serr = pd.Series(s)\n",
    "            df.append(list(serr))\n",
    "            \n",
    "        \n",
    "    return df\n",
    "\n",
    "df_shoeBrand = extract_series(s_brand_list)\n",
    "df_shoeName = extract_series(s_name_list)\n",
    "df_price = extract_series(s_price)\n",
    "#df_shoeName\n",
    "\n",
    "# df_shoeName\n",
    "# type(df_shoeName)\n"
   ]
  },
  {
   "cell_type": "code",
   "execution_count": 71,
   "metadata": {},
   "outputs": [
    {
     "data": {
      "text/plain": [
       "(182, 182, 182)"
      ]
     },
     "execution_count": 71,
     "metadata": {},
     "output_type": "execute_result"
    }
   ],
   "source": [
    "len(df_shoeBrand), len(df_shoeName), len(df_price)"
   ]
  },
  {
   "cell_type": "code",
   "execution_count": 72,
   "metadata": {},
   "outputs": [
    {
     "data": {
      "text/plain": [
       "[[\"Men's Jodhpur Leather Ankle-Wrap Boots\"],\n",
       " [\"Men's Original Refined Chelsea Boot\"],\n",
       " [\"Men's Studded Leather Moto Boot\"],\n",
       " [\"Men's Adrian  Leather Dress Chelsea Boots\"],\n",
       " [\"Men's Daniel Waterproof Suede Side-Zip Ankle Boots\"],\n",
       " [\"Men's Rinaldo Suede Lace-Up Chukka Boots\"],\n",
       " [\"Men's Polacco Suede Chukka Boots\"],\n",
       " [\"Men's Wyatt Leopard-Print Harness Boots\"],\n",
       " [\"Men's Adrian Weatherproof Suede Chelsea Boot\"],\n",
       " [\"Men's Santiag Western Harness Suede Booties\"],\n",
       " [\"Men's Double-Zip Leather Ankle Boots\"],\n",
       " [\"Men's Side-Zip Leather Ankle Boots\"],\n",
       " [\"Men's Suede Chelsea Boots\"],\n",
       " [\"Men's Clementi 40 Buckle-Strap Patent Leather Boots\"],\n",
       " [\"Men's Jodhpur Conch Suede Boots\"],\n",
       " [\"Men's Santa Fe Suede Chelsea Boots\"],\n",
       " [\"Men's Classic Short Suede Front-Zip Boots\"],\n",
       " [\"Men's Sachie-2 Suede Chukka Boots\"],\n",
       " [\"Men's Jonas Patent Leather Point-Toe Chukka Boots\"],\n",
       " [\"Men's Wyatt Suede Chukka Boots\"],\n",
       " [\"Men's Cross Shiny Faux-Leather Combat Boots\"],\n",
       " [\"Men's Chrystal Textured Leather Booties\"],\n",
       " [\"Men's Biker Bootie\"],\n",
       " [\"Men's Tank Metallic Split-Toe Ankle Boots\"],\n",
       " [\"Men's Leopard Calf Hair Ankle Boots\"],\n",
       " [\"Men's Corbin Weatherproof Suede Derby Shoes\"],\n",
       " [\"Men's Rinaldo Weatherproof Suede Chukka Boot\"],\n",
       " ['Sherman 1955 Leather Boots Oak '],\n",
       " ['Saffiano Leather Chelsea Boots Black'],\n",
       " ['1000 Mile Boot'],\n",
       " [\"Men's Open Walk Suede Chukka Boot\"],\n",
       " [\"Men's Vachetta Leather/Suede Chelsea Boots\"],\n",
       " [\"Men's 1000 Mile Rugged Waxy Suede Boots\"],\n",
       " [\"Men's Lukas Western Suede Boots\"],\n",
       " [\"Men's Scritto Leather Chelsea Boots\"],\n",
       " [\"Men's Edison 1955 Leather Chelsea Boots\"],\n",
       " [\"Men's Edison 1955 Suede Chelsea Boots\"],\n",
       " [\"Men's Sherman 1955 Suede Boots\"],\n",
       " [\"Men's Leather Mountain Boots\"],\n",
       " [\"Men's Bowery Leather Lace-Up Boots\"],\n",
       " [\"Men's Vladimir Leather Boots\"],\n",
       " [\"Men's Grayson Leather Chelsea Boots (Made to Order)\"],\n",
       " [\"Men's Hudson Full Quill Boots (Made to Order)\"],\n",
       " [\"Men's Bandana Buckle Ankle Boots\"],\n",
       " [\"Men's Sancho Leather Ankle Boots\"],\n",
       " [\"Men's Kicko Leopard-Print Red Sole Boots\"],\n",
       " ['Eldridge Leather Harness Boot'],\n",
       " [\"Men's Paul Lace-Up Leather Boots\"],\n",
       " [\"Men's Spazzolato Leather Combat Boots\"],\n",
       " [\"Men's Waverly Covered Chelsea Boots\"],\n",
       " [\"Men's Waverly Covered Chelsea Boots\"],\n",
       " [\"Men's NYC Leather Ankle Boots\"],\n",
       " [\"Men's Siena Flex Burnished Leather Chelsea Boots\"],\n",
       " [\"Men's Calf Suede Zip-Up Ankle Boots\"],\n",
       " [\"Men's Brogue Leather Derby Boots\"],\n",
       " [\"Men's Suede Mid-Top Desert Chukka Boots\"],\n",
       " [\"Men's Grady Jodhpur Ankle Boots\"],\n",
       " [\"Men's Nikora Leather Chelsea Boots \"],\n",
       " [\"Men's Union Leather Combat Boots\"],\n",
       " [\"Men's Fleetwood Velvet Lace-Up Boots\"],\n",
       " [\"Men's Savino Suede/Leather Derby Boots\"],\n",
       " [\"Men's Embroidered FF Logo Leather Chelsea Boots\"],\n",
       " [\"Men's Melon Spikes Red Sole Chelsea Boots\"],\n",
       " [\"Men's Octavian Patina Leather Double-Monk Boots\"],\n",
       " [\"Men's Edge Two-Tone Patina Leather Balmoral Boots\"],\n",
       " [\"Men's Sefton Gancini Leather Side-Zip Ankle Boots\"],\n",
       " [\"Men's Colter Moc-Toe Chukka Boots\"],\n",
       " [\"Men's Neumel Waterproof Full-Grain Leather Chukka Boots\"],\n",
       " [\"Men's Carmine Valencia Leather Chelsea Boots\"],\n",
       " [\"Men's Vintage Check/Leather Hiking Boots\"],\n",
       " [\"Men's Trivero Suede Chukka Boots with Mud Guard Black\"],\n",
       " [\"Men's Trivero Suede Chukka Boots with Mud Guard Blue\"],\n",
       " [\"Men's Trivero Suede Chukka Boots with Mud Guard Brown\"],\n",
       " [\"Men's Rodrigo Suede Chukka Boots\"],\n",
       " [\"Men's Bodolomite Shearling-Trim Hiking Boots\"],\n",
       " [\"Men's Nokona CanyonTrek Leather/Hemp Chukka Boots\"],\n",
       " [\"Men's Leather Harness Moto Boots\"],\n",
       " [\"Men's Colter Suede Moc-Toe Chukka Boots\"],\n",
       " [\"Men's 2.ZeroGrand Stretch-Knit Chukka Boots\"],\n",
       " [\"Men's Leather Chelsea Boots\"],\n",
       " [\"Men's Trivero Suede Chukka Boots\"],\n",
       " [\"Men's Faded FF Leather Chelsea Boots\"],\n",
       " [\"Men's Faded FF Moc-Toe Leather Combat Boots\"],\n",
       " ['Hayden Chelsea Leather Boots'],\n",
       " [\"Men's Allostock Vintage Check Leather Chelsea Boots\"],\n",
       " [\"Men's Octavio Brogue Leather Boots\"],\n",
       " [\"Men's Leon Chunky Leather Chelsea Boots\"],\n",
       " ['Suede Chukka Boot Espadrille'],\n",
       " [\"Men's Polacco Suede Chukka Boots\"],\n",
       " [\"Men's Motion Country Boots\"],\n",
       " [\"Men's Motion Chukka Boots\"],\n",
       " [\"Men's William Star-Print Leather Ankle Boots\"],\n",
       " [\"Men's Leather Medusa Combat Boots\"],\n",
       " [\"Men's Nylon-Inset Leather Boots\"],\n",
       " [\"Men's Morrison Sharpei Laser Boots\"],\n",
       " [\"Men's Lewis Leather Side-Zip Boots\"],\n",
       " [\"Men's Lewis Python-Print Side-Zip Boots\"],\n",
       " [\"Men's Riccardo Woven Leather Boots\"],\n",
       " [\"Men's Tabi Split-Toe Leather Ankle Boots\"],\n",
       " [\"Men's Kurt 1955 Waterproof Leather Hiking Boots\"],\n",
       " [\"Men's Lug-Sole Leather Derby Shoes\"],\n",
       " [\"Men's Leather Chelsea Boots\"],\n",
       " [\"Men's Brogue Lace-Up Boot Sneakers\"],\n",
       " [\"Men's Lightweight Suede Chukka Boots\"],\n",
       " [\"Men's Formal Leather Side-Zip Ankle Boots\"],\n",
       " [\"Men's Suede Point-Toe Chelsea Boots\"],\n",
       " [\"Men's Six O Six Convertible Leather Combat Boots\"],\n",
       " [\"Men's Neon Camouflage Sneakers\"],\n",
       " ['Sherman 1955 Leather Boot Black'],\n",
       " [\"Men's Rhino Leather Chelsea Boots\"],\n",
       " [\"Men's Leather Glitter Ankle Boots\"],\n",
       " [\"Men's Combat Boot with Woven Lace Detail\"],\n",
       " ['1000 Mile Boots Black'],\n",
       " [\"Men's Suede Chelsea Boots w/ Clear Heel\"],\n",
       " [\"Men's Kensington Double-Monk Boots\"],\n",
       " [\"Men's x Ovadia Classic Mini Leather Boots\"],\n",
       " [\"Men's Durham Leather Desert Boots\"],\n",
       " [\"Men's Lightweight Suede Chukka Boots\"],\n",
       " [\"Men's Bowery Leather Lace-Up Boots\"],\n",
       " [\"Men's Crosta Suede Greek Key Boots\"],\n",
       " [\"Men's Tie-Dye Calf Hair Chelsea Boots\"],\n",
       " [\"Men's Lysius Mixed-Media Lace-up Boots\"],\n",
       " [\"Men's Informal Double-Monk Suede Ankle Boots\"],\n",
       " [\"Men's Wyatt Croc-Embossed Leather Side-Zip Boots\"],\n",
       " ['Franconia 1955 Ankle Boots Oak '],\n",
       " [\"Men's Patent Leather Formal Tassel Loafers\"],\n",
       " [\"Men's Hybrid Urban Suede Hiking Boots\"],\n",
       " [\"Men's C250 Technical Cordura Hiking Boots\"],\n",
       " [\"Men's Lewis Leather Chelsea Boots\"],\n",
       " [\"Men's Yeti Studded Leather Boots w/ Shearling\"],\n",
       " ['Eddie Suede Chelsea Boot'],\n",
       " [\"Men's Warwick Leather Chukka Boots\"],\n",
       " [\"Men's Nokona CanyonTrek Leather/Hemp Chukka Boots\"],\n",
       " [\"Men's Nokona Adobe Desert Boots\"],\n",
       " [\"Men's Nokona Adobe Desert Boots\"],\n",
       " [\"Men's Citycroc Red Sole Brogue Leather Boots\"],\n",
       " [\"Men's Rim BB-Logo Leather Rain Boots\"],\n",
       " [\"Men's Ira Leather Boots\"],\n",
       " [\"Men's Luna Leather Chelsea Boots\"],\n",
       " [\"Men's Peyton II Burnished Leather Lace-Up Boots\"],\n",
       " [\"Men's Cheyanne II Premium Waterproof Boots\"],\n",
       " [\"Men's Atlis Waterproof Suede Ankle Boots\"],\n",
       " [\"Men's New Trivero Suede Lug-Sole Chukka Boots\"],\n",
       " [\"Men's Suede Hiker Boots\"],\n",
       " [\"Men's Neumel Flex Suede Booties w/ Wool Lining\"],\n",
       " [\"Men's Conway Leather Chelsea Boots\"],\n",
       " [\"Men's Angiolini M-Buckle Burnished Leather Ankle Boots\"],\n",
       " [\"Men's Conway Leather Harness Boots\"],\n",
       " [\"Men's Escape Patina Leather Chelsea Boots\"],\n",
       " [\"Men's Leather Side-Zip Ankle Boots w/ Buckle Strap\"],\n",
       " ['Neumel Suede Desert Boots Chestnut'],\n",
       " [\"Men's Delsa Leather Chelsea Boots\"],\n",
       " [\"Men's Double-Monk Strap Leather Ankle Boots\"],\n",
       " [\"Men's Talos Suede Chelsea Boots\"],\n",
       " [\"Men's Henoc Water-Resistant Hiking Boots\"],\n",
       " [\"Men's Motion Water-Resistant Suede Chelsea Boots\"],\n",
       " [\"Men's Paul Leather Ankle Boots\"],\n",
       " [\"Men's Lugano Suede Chukka Boots\"],\n",
       " [\"Men's Hobbs Sunburst Western Cowboy Boots (Made to Order)\"],\n",
       " [\"Men's Suede Chelsea Boots\"],\n",
       " [\"Men's Rim Patent Leather Chelsea Boots\"],\n",
       " [\"Men's Duke Roper Western Leather Boots\"],\n",
       " [\"Men's Worsh Leather Ankle Boots\"],\n",
       " [\"Men's Risoli Leather Zip-Up Ankle Boots\"],\n",
       " [\"Men's Rio Gator Leather Western Cowboy Boots (Made to Order)\"],\n",
       " [\"Men's Anderson Ostrich Cowboy Boots (Made to Order)\"],\n",
       " [\"Men's Gavin Leather Cowboy Boots (Made to Order)\"],\n",
       " [\"Men's Ripley Grand Chukka Boots\"],\n",
       " [\"Men's Adrian Waterproof Leather Chelsea Boots\"],\n",
       " [\"Men's Waverly Suede Chelsea Boots\"],\n",
       " [\"Men's Renzo Waterproof Leather Lace-Up Boots\"],\n",
       " [\"Men's Harkley Waterproof Leather Boots\"],\n",
       " [\"Men's Leather Mountain Hiking Boots Blue\"],\n",
       " [\"Men's Leather Lace-Up Combat Boots with Thick Rubber Sole\"],\n",
       " [\"Men's Suede Chukka Boot\"],\n",
       " [\"Men's Brunswick Suede Chukka Boot\"],\n",
       " ['Morrison Sharpei Suede Boot'],\n",
       " ['Gored Leather Chelsea Boot w/ Rubber Sole'],\n",
       " [\"Men's Calf Suede Chelsea Boot Tan\"],\n",
       " ['6\" Premium Waterproof Hiking Boots'],\n",
       " ['6\" Premium Waterproof Hiking Boots Black'],\n",
       " ['Elkton 1955 Leather Boots Black']]"
      ]
     },
     "execution_count": 72,
     "metadata": {},
     "output_type": "execute_result"
    }
   ],
   "source": [
    "df_shoeName"
   ]
  },
  {
   "cell_type": "code",
   "execution_count": 74,
   "metadata": {},
   "outputs": [],
   "source": [
    "df_combined = pd.DataFrame({'shoeBrand': df_shoeBrand,\n",
    "                             'shoeName': df_shoeName,\n",
    "                            'price': df_price\n",
    "                           \n",
    "                           })"
   ]
  },
  {
   "cell_type": "code",
   "execution_count": 75,
   "metadata": {},
   "outputs": [
    {
     "data": {
      "text/html": [
       "<div>\n",
       "<style scoped>\n",
       "    .dataframe tbody tr th:only-of-type {\n",
       "        vertical-align: middle;\n",
       "    }\n",
       "\n",
       "    .dataframe tbody tr th {\n",
       "        vertical-align: top;\n",
       "    }\n",
       "\n",
       "    .dataframe thead th {\n",
       "        text-align: right;\n",
       "    }\n",
       "</style>\n",
       "<table border=\"1\" class=\"dataframe\">\n",
       "  <thead>\n",
       "    <tr style=\"text-align: right;\">\n",
       "      <th></th>\n",
       "      <th>shoeBrand</th>\n",
       "      <th>shoeName</th>\n",
       "      <th>price</th>\n",
       "    </tr>\n",
       "  </thead>\n",
       "  <tbody>\n",
       "    <tr>\n",
       "      <th>0</th>\n",
       "      <td>[Saint Laurent]</td>\n",
       "      <td>[Men's Jodhpur Leather Ankle-Wrap Boots]</td>\n",
       "      <td>[995]</td>\n",
       "    </tr>\n",
       "    <tr>\n",
       "      <th>1</th>\n",
       "      <td>[Hunter Boot]</td>\n",
       "      <td>[Men's Original Refined Chelsea Boot]</td>\n",
       "      <td>[154,NOW,75]</td>\n",
       "    </tr>\n",
       "    <tr>\n",
       "      <th>2</th>\n",
       "      <td>[Alexander McQueen]</td>\n",
       "      <td>[Men's Studded Leather Moto Boot]</td>\n",
       "      <td>[ 1,579,NOW,740]</td>\n",
       "    </tr>\n",
       "    <tr>\n",
       "      <th>3</th>\n",
       "      <td>[Aquatalia]</td>\n",
       "      <td>[Men's Adrian  Leather Dress Chelsea Boots]</td>\n",
       "      <td>[ 449,NOW,210]</td>\n",
       "    </tr>\n",
       "    <tr>\n",
       "      <th>4</th>\n",
       "      <td>[Aquatalia]</td>\n",
       "      <td>[Men's Daniel Waterproof Suede Side-Zip Ankle ...</td>\n",
       "      <td>[ 524,NOW,245]</td>\n",
       "    </tr>\n",
       "    <tr>\n",
       "      <th>...</th>\n",
       "      <td>...</td>\n",
       "      <td>...</td>\n",
       "      <td>...</td>\n",
       "    </tr>\n",
       "    <tr>\n",
       "      <th>177</th>\n",
       "      <td>[Giorgio Armani]</td>\n",
       "      <td>[Gored Leather Chelsea Boot w/ Rubber Sole]</td>\n",
       "      <td>[795]</td>\n",
       "    </tr>\n",
       "    <tr>\n",
       "      <th>178</th>\n",
       "      <td>[Common Projects]</td>\n",
       "      <td>[Men's Calf Suede Chelsea Boot Tan]</td>\n",
       "      <td>[529]</td>\n",
       "    </tr>\n",
       "    <tr>\n",
       "      <th>179</th>\n",
       "      <td>[Timberland]</td>\n",
       "      <td>[6\" Premium Waterproof Hiking Boots]</td>\n",
       "      <td>[198]</td>\n",
       "    </tr>\n",
       "    <tr>\n",
       "      <th>180</th>\n",
       "      <td>[Timberland]</td>\n",
       "      <td>[6\" Premium Waterproof Hiking Boots Black]</td>\n",
       "      <td>[198]</td>\n",
       "    </tr>\n",
       "    <tr>\n",
       "      <th>181</th>\n",
       "      <td>[Eastland]</td>\n",
       "      <td>[Elkton 1955 Leather Boots Black]</td>\n",
       "      <td>[225]</td>\n",
       "    </tr>\n",
       "  </tbody>\n",
       "</table>\n",
       "<p>182 rows × 3 columns</p>\n",
       "</div>"
      ],
      "text/plain": [
       "               shoeBrand                                           shoeName  \\\n",
       "0        [Saint Laurent]           [Men's Jodhpur Leather Ankle-Wrap Boots]   \n",
       "1          [Hunter Boot]              [Men's Original Refined Chelsea Boot]   \n",
       "2    [Alexander McQueen]                  [Men's Studded Leather Moto Boot]   \n",
       "3            [Aquatalia]        [Men's Adrian  Leather Dress Chelsea Boots]   \n",
       "4            [Aquatalia]  [Men's Daniel Waterproof Suede Side-Zip Ankle ...   \n",
       "..                   ...                                                ...   \n",
       "177     [Giorgio Armani]        [Gored Leather Chelsea Boot w/ Rubber Sole]   \n",
       "178    [Common Projects]                [Men's Calf Suede Chelsea Boot Tan]   \n",
       "179         [Timberland]               [6\" Premium Waterproof Hiking Boots]   \n",
       "180         [Timberland]         [6\" Premium Waterproof Hiking Boots Black]   \n",
       "181           [Eastland]                  [Elkton 1955 Leather Boots Black]   \n",
       "\n",
       "                price  \n",
       "0               [995]  \n",
       "1        [154,NOW,75]  \n",
       "2    [ 1,579,NOW,740]  \n",
       "3      [ 449,NOW,210]  \n",
       "4      [ 524,NOW,245]  \n",
       "..                ...  \n",
       "177             [795]  \n",
       "178             [529]  \n",
       "179             [198]  \n",
       "180             [198]  \n",
       "181             [225]  \n",
       "\n",
       "[182 rows x 3 columns]"
      ]
     },
     "execution_count": 75,
     "metadata": {},
     "output_type": "execute_result"
    }
   ],
   "source": [
    "df_combined"
   ]
  },
  {
   "cell_type": "code",
   "execution_count": null,
   "metadata": {},
   "outputs": [],
   "source": []
  },
  {
   "cell_type": "code",
   "execution_count": null,
   "metadata": {},
   "outputs": [],
   "source": []
  }
 ],
 "metadata": {
  "kernelspec": {
   "display_name": "Python 3",
   "language": "python",
   "name": "python3"
  },
  "language_info": {
   "codemirror_mode": {
    "name": "ipython",
    "version": 3
   },
   "file_extension": ".py",
   "mimetype": "text/x-python",
   "name": "python",
   "nbconvert_exporter": "python",
   "pygments_lexer": "ipython3",
   "version": "3.7.7"
  }
 },
 "nbformat": 4,
 "nbformat_minor": 2
}
